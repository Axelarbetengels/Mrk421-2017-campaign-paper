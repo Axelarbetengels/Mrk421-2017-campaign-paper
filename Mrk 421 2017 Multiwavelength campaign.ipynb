{
 "cells": [
  {
   "cell_type": "code",
   "execution_count": 23,
   "metadata": {
    "scrolled": true
   },
   "outputs": [],
   "source": [
    "import numpy as np\n",
    "import naima as na\n",
    "import matplotlib.pyplot as plt\n",
    "import astropy.units as u\n",
    "from astropy.constants import c, m_e\n",
    "import warnings \n",
    "warnings.simplefilter(action='ignore', category=FutureWarning)\n"
   ]
  },
  {
   "cell_type": "code",
   "execution_count": 24,
   "metadata": {},
   "outputs": [],
   "source": [
    "#Luminosity distance\n",
    "Lum_dist = 136 * u.Mpc\n",
    "\n",
    "#Magnetic field    \n",
    "B = 6.1e-2 * u.G\n",
    "#Blob radius\n",
    "R = 1e16 * u.cm\n",
    "#Doppler factor\n",
    "doppler_factor = 25\n",
    "\n",
    "#Electron energy distribution parametrisation\n",
    "\n",
    "##spectral parameters\n",
    "gamma_min = 1e3\n",
    "gamma_break = 2.1e5\n",
    "gamma_max = 1.5e6\n",
    "alpha_1 = 2.2\n",
    "alpha_2 = 3.8\n",
    "##energy density\n",
    "u_e = 1.1e-2 * u.erg/(u.cm**3)\n",
    "\n",
    "\n",
    "def gamma_to_E(gamma):\n",
    "\n",
    "    E = gamma * (m_e*c**2).to(u.eV)\n",
    "\n",
    "    return E\n",
    "\n",
    "E_min = gamma_to_E(gamma_min)\n",
    "E_break = gamma_to_E(gamma_break)\n",
    "E_max = gamma_to_E(gamma_max)\n",
    "\n",
    "\n",
    "spectrum_energy = np.logspace(-10, 20, 600)*u.eV\n",
    "\n"
   ]
  },
  {
   "cell_type": "code",
   "execution_count": 25,
   "metadata": {},
   "outputs": [],
   "source": [
    "EDIS = na.models.BrokenPowerLaw(1*u.Unit('1/eV'), 1*u.eV, \n",
    "                                E_break, alpha_1, alpha_2)\n"
   ]
  },
  {
   "cell_type": "code",
   "execution_count": 26,
   "metadata": {},
   "outputs": [],
   "source": [
    "#Synchrotron emission\n",
    "SYN = na.models.Synchrotron(EDIS, B,\n",
    "                            Eemin=E_min , Eemax=E_max)\n",
    "\n",
    "SYN.set_We(u_e * (4/3) * np.pi * R**3, \n",
    "           Eemin=E_min, Eemax=E_max)\n"
   ]
  },
  {
   "cell_type": "code",
   "execution_count": 27,
   "metadata": {},
   "outputs": [],
   "source": [
    "#Inverse Compton (IC) emission\n",
    "##First, compute synchrotron photons density for IC process\n",
    "Lsy = SYN.flux(spectrum_energy/doppler_factor, distance=0*u.cm)\n",
    "phn_sy =  2.24*(spectrum_energy/doppler_factor)**2 *Lsy / (4 * np.pi * R**2 * c.to(u.cm/u.s) ) \n",
    "\n",
    "\n",
    "##IC flux computation\n",
    "IC = na.models.InverseCompton(EDIS, \n",
    "                              seed_photon_fields=[['SSC', spectrum_energy/doppler_factor, phn_sy]], \n",
    "                              Eemin=E_min , \n",
    "                              Eemax=E_max)\n",
    "\n",
    "IC.set_We(u_e * (4/3) * np.pi * R**3, \n",
    "          Eemin=E_min, Eemax=E_max)\n"
   ]
  },
  {
   "cell_type": "code",
   "execution_count": 28,
   "metadata": {},
   "outputs": [],
   "source": [
    "obs_flux_SYN = doppler_factor**4 * (spectrum_energy/doppler_factor)**2 * SYN.flux(spectrum_energy/doppler_factor, distance=0 * u.Mpc) / (4 * np.pi * ((Lum_dist).to(u.cm) )**2)\n",
    "\n",
    "obs_flux_IC = doppler_factor**4 * (spectrum_energy/doppler_factor)**2 * IC.flux(spectrum_energy/doppler_factor, distance=0 * u.Mpc) / (4 * np.pi * ((Lum_dist).to(u.cm) )**2)\n"
   ]
  },
  {
   "cell_type": "code",
   "execution_count": 29,
   "metadata": {},
   "outputs": [
    {
     "data": {
      "image/png": "[encoded data removed]",
      "text/plain": [
       "<Figure size 432x288 with 1 Axes>"
      ]
     },
     "metadata": {
      "needs_background": "light"
     },
     "output_type": "display_data"
    }
   ],
   "source": [
    "plt.plot(spectrum_energy.to(u.Hz, equivalencies=u.spectral()), (obs_flux_SYN+obs_flux_IC).to(u.erg*u.cm**(-2)*u.s**(-1)), '-')\n",
    "\n",
    "plt.xscale('log')\n",
    "plt.yscale('log')\n",
    "\n",
    "plt.xlim(3e8, 1e28)\n",
    "plt.ylim(8e-15, 8e-10)\n",
    "\n",
    "plt.xlabel(r'$\\nu$ [Hz]', fontsize=14)\n",
    "plt.ylabel(r'$\\nu F_{\\nu} [erg/cm^2/s]$', fontsize=14)\n",
    "\n",
    "plt.show()"
   ]
  },
  {
   "cell_type": "code",
   "execution_count": null,
   "metadata": {},
   "outputs": [],
   "source": []
  },
  {
   "cell_type": "code",
   "execution_count": null,
   "metadata": {},
   "outputs": [],
   "source": []
  }
 ],
 "metadata": {
  "kernelspec": {
   "display_name": "Python 3",
   "language": "python",
   "name": "python3"
  },
  "language_info": {
   "codemirror_mode": {
    "name": "ipython",
    "version": 3
   },
   "file_extension": ".py",
   "mimetype": "text/x-python",
   "name": "python",
   "nbconvert_exporter": "python",
   "pygments_lexer": "ipython3",
   "version": "3.6.8"
  }
 },
 "nbformat": 4,
 "nbformat_minor": 2
}
